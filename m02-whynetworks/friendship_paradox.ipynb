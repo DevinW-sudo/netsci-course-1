{
 "cells": [
  {
   "cell_type": "markdown",
   "metadata": {},
   "source": [
    "# Measuring the friendship paradox\n",
    "By now you should have a working Juptyer notebook and be using Python 3 (with Anaconda). If not, then make sure you have done the [Python Setup assignment in Week 0](https://github.com/yy/netsci-course/blob/master/week0-getready/python-setup.md) (where you will also find some basic tutorials on python control statements).\n",
    "\n",
    "To get a better intuitive understanding of the friendship paradox we are going to work through some problems and examples in this notebook. A few tasks will be left to you to complete and submit in your own notebook. Before we dive into creating our own paradox we will go over some basic commands used in the networkx library.\n",
    "\n",
    "## Step 1: Using networkx\n",
    "We are going to start by importing the networkx module:"
   ]
  },
  {
   "cell_type": "code",
   "execution_count": 1,
   "metadata": {
    "collapsed": true
   },
   "outputs": [],
   "source": [
    "import networkx as nx"
   ]
  },
  {
   "cell_type": "markdown",
   "metadata": {},
   "source": [
    "By importing the module this way we can use any of the library's classes and functions by prepending the name of the class or function with: \n",
    "\n",
    "```\n",
    "nx.\n",
    "```\n",
    "\n",
    "Networkx has extensive documention with many examples and I highly suggesting looking over the contents of the [Networkx 1.11 documentation page](http://networkx.readthedocs.io/en/networkx-1.11/) to get an idea of the kinds of things networkx can do.\n",
    "\n",
    "We will start by making a simple undirected graph by hand:"
   ]
  },
  {
   "cell_type": "code",
   "execution_count": 2,
   "metadata": {
    "collapsed": true
   },
   "outputs": [],
   "source": [
    "# Creates an instance of a networkx graph.\n",
    "my_first_graph = nx.Graph() \n",
    "\n",
    "# Lets add some nodes to the graph\n",
    "my_first_graph.add_node(1)\n",
    "my_first_graph.add_node(2)\n",
    "my_first_graph.add_node(3)\n",
    "\n",
    "# Now lets add some connections\n",
    "my_first_graph.add_edge(1, 2)\n",
    "my_first_graph.add_edge(3, 2)"
   ]
  },
  {
   "cell_type": "markdown",
   "metadata": {},
   "source": [
    "We now have our first graph which contains 3 nodes and 2 edges. ```add_node()``` and ```add_edge``` are **methods** of the class ```Graph```. Methods are member functions of classes in python and can be called from an object by using the ```.``` notation followed by the method name. We can find out some basic information about this graph using networkx functions and some default python functions:"
   ]
  },
  {
   "cell_type": "code",
   "execution_count": 3,
   "metadata": {
    "collapsed": false
   },
   "outputs": [
    {
     "name": "stdout",
     "output_type": "stream",
     "text": [
      "3\n"
     ]
    }
   ],
   "source": [
    "# Lets find out how many nodes the graph has\n",
    "num_nodes = len(my_first_graph) # len()  is a python function that can be applied to most lists or sequences\n",
    "print(num_nodes)"
   ]
  },
  {
   "cell_type": "code",
   "execution_count": 4,
   "metadata": {
    "collapsed": false
   },
   "outputs": [
    {
     "name": "stdout",
     "output_type": "stream",
     "text": [
      "Node 2's degree:  2\n",
      "Node 2's neighbors:  [1, 3]\n"
     ]
    }
   ],
   "source": [
    "# We can also get the degree of any node in the graph\n",
    "node2_degree = my_first_graph.degree(2)\n",
    "print(\"Node 2's degree: \",node2_degree)\n",
    "\n",
    "# Or we can get the neighbors of any node\n",
    "node2_neighbors = my_first_graph.neighbors(2)\n",
    "print(\"Node 2's neighbors: \", node2_neighbors)"
   ]
  },
  {
   "cell_type": "markdown",
   "metadata": {},
   "source": [
    "Make sure to review the documentation on both of these functions ([degree](http://networkx.readthedocs.io/en/networkx-1.11/reference/generated/networkx.Graph.degree.html?highlight=degree#networkx.Graph.degree) and [neighbors](http://networkx.readthedocs.io/en/networkx-1.11/reference/generated/networkx.Graph.neighbors.html?highlight=neighbors#networkx.Graph.neighbors)) so you are aware what additional arguments you can give. For instance, degree can take a sequence of nodes as an argument and return a sequence of corresponding degrees.\n",
    "\n",
    "We can also combine python control statements with networkx functions:"
   ]
  },
  {
   "cell_type": "code",
   "execution_count": 5,
   "metadata": {
    "collapsed": false
   },
   "outputs": [
    {
     "name": "stdout",
     "output_type": "stream",
     "text": [
      "Node 1 's neighbors: [2]\n",
      "Node 2 's neighbors: [1, 3]\n",
      "Node 3 's neighbors: [2]\n"
     ]
    }
   ],
   "source": [
    "# Lets get all the neighbors for each node in the graph\n",
    "for node in my_first_graph.nodes_iter():\n",
    "    print(\"Node\", node, \"'s neighbors:\", my_first_graph.neighbors(node))"
   ]
  },
  {
   "cell_type": "markdown",
   "metadata": {},
   "source": [
    "I wrote a python *for* loop that iterated over the generator returned by the networkx graph method ```nodes_iter()```. This graph method returns a generator that yeilds each successive node in the network which the python *for* loop can then iterate over. [More information on python generators](https://wiki.python.org/moin/Generators). Alternatively, we could have used ```nodes()``` which is a method that returns a list instead of a generator. Similarly, we can loop over edges using ```edges_iter()``` or ```edges()``` to get a list of edges in the network."
   ]
  },
  {
   "cell_type": "code",
   "execution_count": 6,
   "metadata": {
    "collapsed": false
   },
   "outputs": [
    {
     "name": "stdout",
     "output_type": "stream",
     "text": [
      "(1, 2)\n",
      "(2, 3)\n"
     ]
    }
   ],
   "source": [
    "# Quick example of iterating over edges\n",
    "for edge in my_first_graph.edges_iter():\n",
    "    print(edge)"
   ]
  },
  {
   "cell_type": "markdown",
   "metadata": {},
   "source": [
    "Before we move on there is one more thing we would like to do which is visualize our graph. Networkx isn't known for making the prettiest graphs, we will be using [Gephi](https://gephi.org/) for that later, but it can provide us with a basic visualization to get an idea of what our graph looks like."
   ]
  },
  {
   "cell_type": "code",
   "execution_count": 7,
   "metadata": {
    "collapsed": false
   },
   "outputs": [
    {
     "data": {
      "image/png": "[encoded data removed]",
      "text/plain": [
       "<matplotlib.figure.Figure at 0x7fdcef6ff160>"
      ]
     },
     "metadata": {},
     "output_type": "display_data"
    }
   ],
   "source": [
    "# Draw figures in the notebook\n",
    "%matplotlib inline\n",
    "# We will use matplotlib as a backend for the visualization\n",
    "import matplotlib.pyplot as plt\n",
    "\n",
    "# Next we will call networkx's draw function on our graph\n",
    "nx.draw(my_first_graph)\n",
    "\n",
    "# And then ask matplotlib to show the figure\n",
    "plt.show()"
   ]
  },
  {
   "cell_type": "markdown",
   "metadata": {},
   "source": [
    "## Step 2: Friendship paradox example\n",
    "Now lets apply some of these tools to the friendship paradox. We will start by using networkx's graph generators to construct a graph for us, then we will calculate the average degree of the network. Once that is done we will calculate the average degree of the neighbors of a few random nodes in the network and compare those values with the degree of the nodes themselves."
   ]
  },
  {
   "cell_type": "code",
   "execution_count": 8,
   "metadata": {
    "collapsed": false
   },
   "outputs": [
    {
     "data": {
      "image/png": "[encoded data removed]",
      "text/plain": [
       "<matplotlib.figure.Figure at 0x7fdcdc1229b0>"
      ]
     },
     "metadata": {},
     "output_type": "display_data"
    }
   ],
   "source": [
    "# Use one of networkx's graph generator functions to create a graph\n",
    "star_graph = nx.star_graph(n=20)\n",
    "nx.draw(star_graph)\n",
    "plt.show()"
   ]
  },
  {
   "cell_type": "code",
   "execution_count": 9,
   "metadata": {
    "collapsed": false
   },
   "outputs": [
    {
     "name": "stdout",
     "output_type": "stream",
     "text": [
      "Average degree 1.9047619047619047\n"
     ]
    }
   ],
   "source": [
    "# Lets calculate the average degree of the graph\n",
    "degree_sum = 0.0\n",
    "for node in star_graph.nodes_iter():\n",
    "    degree_sum += star_graph.degree(node)\n",
    "avg_degree = degree_sum / len(star_graph)\n",
    "print(\"Average degree\", avg_degree)"
   ]
  },
  {
   "cell_type": "code",
   "execution_count": 10,
   "metadata": {
    "collapsed": false
   },
   "outputs": [
    {
     "name": "stdout",
     "output_type": "stream",
     "text": [
      "Average degree: 1.90476190476\n"
     ]
    }
   ],
   "source": [
    "# Now lets do it in one line using numpy\n",
    "import numpy as np\n",
    "\n",
    "# Calculate the average degree of the nodes in the graph\n",
    "avg_degree = np.mean([star_graph.degree(node) for node in star_graph.nodes_iter()])\n",
    "print(\"Average degree:\",avg_degree)"
   ]
  },
  {
   "cell_type": "markdown",
   "metadata": {},
   "source": [
    "To do it more succintly I used a list comprehension to fold the list construction process into one line:\n",
    "```\n",
    "[star_graph.degree(node) for node in star_graph.nodes_iter()]\n",
    "```\n",
    "\n",
    "This codes creates a list of the degrees of each node for each node in the star graph. Using a [list comprehension](http://python-3-patterns-idioms-test.readthedocs.io/en/latest/Comprehensions.html) isn't always possible, but it is faster and more succint than the alternative.\n",
    "\n",
    "To calculate the mean, I used [numpy's mean function](http://docs.scipy.org/doc/numpy/reference/generated/numpy.mean.html), which can come in handy for quickly calculating the mean of a list or sequence along an axis. So I passed the list comprehension directly to ```np.mean``` and it returned the mean of that list. \n",
    "\n",
    "Note: Numpy uses its own data types for carrying out calculations, so if you print a numpy float it will display differently than if you printed a python float, which is why we get the intentional truncation of the value when displayed.\n",
    "\n",
    "For basic graph information, networkx also has the [info()](https://networkx.readthedocs.io/en/stable/reference/generated/networkx.classes.function.info.html?highlight=info)\n",
    "function:"
   ]
  },
  {
   "cell_type": "code",
   "execution_count": 11,
   "metadata": {
    "collapsed": false,
    "scrolled": true
   },
   "outputs": [
    {
     "name": "stdout",
     "output_type": "stream",
     "text": [
      "Name: star_graph(20)\n",
      "Type: Graph\n",
      "Number of nodes: 21\n",
      "Number of edges: 20\n",
      "Average degree:   1.9048\n"
     ]
    }
   ],
   "source": [
    "# Alternatively we can use use nx.info() to get the average degree\n",
    "print(nx.info(star_graph))"
   ]
  },
  {
   "cell_type": "markdown",
   "metadata": {},
   "source": [
    "### Q1: Average neighbor degree\n",
    "Now that you have seen some examples of networkx and numpy I want you to complete the star graph example by writing a function below that calculates the average degree of a node's neighbors. See the control flow tutorial from the first assignment for how to define functions. Use the space provided below:"
   ]
  },
  {
   "cell_type": "code",
   "execution_count": null,
   "metadata": {
    "collapsed": true
   },
   "outputs": [],
   "source": [
    "# Replace with your code"
   ]
  },
  {
   "cell_type": "markdown",
   "metadata": {},
   "source": [
    "### Q2: Viewing the friendship paradox\n",
    "We would like to check whether the friendship paradox exists in this network. But it isn't necessary to view all the nodes, so we should pick a smaller random set for visualization. Numpy has many built in functions for [random numbers](http://docs.scipy.org/doc/numpy/reference/routines.random.html). Pick a suitable function and then apply your function to 4 random nodes of the network. Print out the degree of the chosen node and the average degree of its neighbors for comparison:"
   ]
  },
  {
   "cell_type": "code",
   "execution_count": null,
   "metadata": {
    "collapsed": true
   },
   "outputs": [],
   "source": [
    "# Replace with your code"
   ]
  },
  {
   "cell_type": "markdown",
   "metadata": {},
   "source": [
    "Even though the star graph is a fairly trivial example it does display the friendship paradox. It is an extreme case where the average degree of the network is wildly different from the average degree of your neighbors. For all but one node (the center node 0) you have fewer friends than your friends.\n",
    "\n",
    "This concludes the tutorial section of this notebook, if you have any questions about what the code does, or about python or networkx in general, don't be shy to message the instructors (or your peers) on [Slack](https://iu-netsci-online.slack.com/messages) with those questions."
   ]
  },
  {
   "cell_type": "markdown",
   "metadata": {},
   "source": [
    "## Step 3: Friendship paradox assignment\n",
    "\n",
    "Your task is to perform a similar analysis for two other types of graphs: a scale-free graph and a random graph. You can use networkx's generator functions for making the [scale-free graph](http://networkx.readthedocs.io/en/networkx-1.11/reference/generated/networkx.generators.random_graphs.barabasi_albert_graph.html#networkx.generators.random_graphs.barabasi_albert_graph) and the [random graph](http://networkx.readthedocs.io/en/networkx-1.11/reference/generated/networkx.generators.random_graphs.erdos_renyi_graph.html#networkx.generators.random_graphs.erdos_renyi_graph). \n",
    "\n",
    "### Q3: Scale-free graph\n",
    "For the barabasi-albert graph use the parameters ```n=200``` and ```m=3```. You should answer the following questions:\n",
    "\n",
    "#### 1. What is the average degree of the graph?"
   ]
  },
  {
   "cell_type": "code",
   "execution_count": null,
   "metadata": {
    "collapsed": true
   },
   "outputs": [],
   "source": []
  },
  {
   "cell_type": "markdown",
   "metadata": {},
   "source": [
    "#### 2. Pick a few random nodes from the network. For each node: What is the node's degree? How does it compare with the node's average neighbor degree?"
   ]
  },
  {
   "cell_type": "code",
   "execution_count": null,
   "metadata": {
    "collapsed": true
   },
   "outputs": [],
   "source": []
  },
  {
   "cell_type": "markdown",
   "metadata": {},
   "source": [
    "#### 3. What fraction of nodes in the graph have a larger average neighbor degree than their degree?"
   ]
  },
  {
   "cell_type": "code",
   "execution_count": null,
   "metadata": {
    "collapsed": true
   },
   "outputs": [],
   "source": []
  },
  {
   "cell_type": "markdown",
   "metadata": {},
   "source": [
    "#### 4. Did the friendship paradox occur in the scale-free graph? If so, why did it? If not, why not? (provide your response in the markdown cell below)"
   ]
  },
  {
   "cell_type": "markdown",
   "metadata": {},
   "source": []
  },
  {
   "cell_type": "markdown",
   "metadata": {},
   "source": [
    "### Q4: Random graph\n",
    "\n",
    "For the erdos-renyi graph use the parameters ```n=200``` and ```p=0.2```.\n",
    "\n",
    "#### 1. What is the average degree of the graph?"
   ]
  },
  {
   "cell_type": "code",
   "execution_count": null,
   "metadata": {
    "collapsed": true
   },
   "outputs": [],
   "source": []
  },
  {
   "cell_type": "markdown",
   "metadata": {},
   "source": [
    "#### 2. Pick a few random nodes from the network. For each node: What is the node's degree? How does it compare with the node's average neighbor degree?"
   ]
  },
  {
   "cell_type": "code",
   "execution_count": null,
   "metadata": {
    "collapsed": true
   },
   "outputs": [],
   "source": []
  },
  {
   "cell_type": "markdown",
   "metadata": {},
   "source": [
    "#### 3. What fraction of nodes in the graph have a larger average neighbor degree than their degree?"
   ]
  },
  {
   "cell_type": "code",
   "execution_count": null,
   "metadata": {
    "collapsed": true
   },
   "outputs": [],
   "source": []
  },
  {
   "cell_type": "markdown",
   "metadata": {},
   "source": [
    "#### 4. Did the friendship paradox occur in the random graph? If so, why did it? If not, why not?"
   ]
  },
  {
   "cell_type": "markdown",
   "metadata": {},
   "source": []
  },
  {
   "cell_type": "markdown",
   "metadata": {},
   "source": [
    "#### Lastly: rename your notebook as 'friendship_lastname_firstname' and upload to Canvas in the Friendship paradox assignment section."
   ]
  }
 ],
 "metadata": {
  "anaconda-cloud": {},
  "kernelspec": {
   "display_name": "Python [Root]",
   "language": "python",
   "name": "Python [Root]"
  },
  "language_info": {
   "codemirror_mode": {
    "name": "ipython",
    "version": 3
   },
   "file_extension": ".py",
   "mimetype": "text/x-python",
   "name": "python",
   "nbconvert_exporter": "python",
   "pygments_lexer": "ipython3",
   "version": "3.5.2"
  }
 },
 "nbformat": 4,
 "nbformat_minor": 0
}
