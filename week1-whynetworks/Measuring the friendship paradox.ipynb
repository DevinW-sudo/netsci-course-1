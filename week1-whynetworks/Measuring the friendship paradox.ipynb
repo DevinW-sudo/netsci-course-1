{
 "cells": [
  {
   "cell_type": "markdown",
   "metadata": {},
   "source": [
    "# Measuring the friendship paradox\n",
    "By now you should have a working Juptyer notebook and be using Python 3 (with Anaconda). If not, then make sure you have done the [Python Setup assignment in Week 0](https://github.com/yy/netsci-course/blob/master/week0-getready/python-setup.md) (where you will also find some basic tutorials on python control statements).\n",
    "\n",
    "To get a better intuitive understanding of the friendship paradox we are going to work through some problems and examples in this notebook. A few tasks will be left to you to complete and submit in your own notebook. Before we dive into creating our own paradox we will go over some basic commands used in the networkx library.\n",
    "\n",
    "## Step 1: Using networkx\n",
    "We are going to start by importing the networkx module:"
   ]
  },
  {
   "cell_type": "code",
   "execution_count": 2,
   "metadata": {
    "collapsed": true
   },
   "outputs": [],
   "source": [
    "import networkx as nx"
   ]
  },
  {
   "cell_type": "markdown",
   "metadata": {},
   "source": [
    "By importing the module this way we can use any of the library's classes and functions by prepending the name of the class or function with: \n",
    "\n",
    "```\n",
    "nx.\n",
    "```\n",
    "\n",
    "Networkx has extensive documention with many examples and I highly suggesting looking over the contents of the [Networkx 1.11 documentation page](http://networkx.readthedocs.io/en/networkx-1.11/) to get an idea of the kinds of things networkx can do.\n",
    "\n",
    "We will start by making a simple undirected graph by hand:"
   ]
  },
  {
   "cell_type": "code",
   "execution_count": 4,
   "metadata": {
    "collapsed": true
   },
   "outputs": [],
   "source": [
    "# Creates an instance of a networkx graph.\n",
    "my_first_graph = nx.Graph() \n",
    "\n",
    "# Lets add some nodes to the graph\n",
    "my_first_graph.add_node(1)\n",
    "my_first_graph.add_node(2)\n",
    "my_first_graph.add_node(3)\n",
    "\n",
    "# Now lets add some connections\n",
    "my_first_graph.add_edge(1, 2)\n",
    "my_first_graph.add_edge(3, 2)"
   ]
  },
  {
   "cell_type": "markdown",
   "metadata": {},
   "source": [
    "We now have our first graph which contains 3 nodes and 2 edges. ```add_node()``` and ```add_edge``` are **methods** of the class ```Graph```. Methods are member functions of classes in python and can be called from an object by using the ```.``` notation followed by the method name. We can find out some basic information about this graph using networkx functions and some default python functions:"
   ]
  },
  {
   "cell_type": "code",
   "execution_count": 5,
   "metadata": {
    "collapsed": false
   },
   "outputs": [
    {
     "name": "stdout",
     "output_type": "stream",
     "text": [
      "3\n"
     ]
    }
   ],
   "source": [
    "# Lets find out how many nodes the graph has\n",
    "num_nodes = len(my_first_graph) # len()  is a python function that can be applied to most lists or sequences\n",
    "print(num_nodes)"
   ]
  },
  {
   "cell_type": "code",
   "execution_count": 9,
   "metadata": {
    "collapsed": false
   },
   "outputs": [
    {
     "name": "stdout",
     "output_type": "stream",
     "text": [
      "Node 2's degree:  2\n",
      "Node 2's neighbors:  [1, 3]\n"
     ]
    }
   ],
   "source": [
    "# We can also get the degree of any node in the graph\n",
    "node2_degree = my_first_graph.degree(2)\n",
    "print(\"Node 2's degree: \",node2_degree)\n",
    "\n",
    "# Or we can get the neighbors of any node\n",
    "node2_neighbors = my_first_graph.neighbors(2)\n",
    "print(\"Node 2's neighbors: \", node2_neighbors)"
   ]
  },
  {
   "cell_type": "markdown",
   "metadata": {},
   "source": [
    "Make sure to review the documentation on both of these functions ([degree](http://networkx.readthedocs.io/en/networkx-1.11/reference/generated/networkx.Graph.degree.html?highlight=degree#networkx.Graph.degree) and [neighbors](http://networkx.readthedocs.io/en/networkx-1.11/reference/generated/networkx.Graph.neighbors.html?highlight=neighbors#networkx.Graph.neighbors)) so you are aware what additional arguments you can give. For instance, degree can take a sequence of nodes as an argument and return a sequence of corresponding degrees.\n",
    "\n",
    "We can also combine python control statements with networkx functions:"
   ]
  },
  {
   "cell_type": "code",
   "execution_count": 6,
   "metadata": {
    "collapsed": false
   },
   "outputs": [
    {
     "name": "stdout",
     "output_type": "stream",
     "text": [
      "Node 1 's neighbors: [2]\n",
      "Node 2 's neighbors: [1, 3]\n",
      "Node 3 's neighbors: [2]\n"
     ]
    }
   ],
   "source": [
    "# Lets get all the neighbors for each node in the graph\n",
    "for node in my_first_graph.nodes_iter():\n",
    "    print(\"Node\", node, \"'s neighbors:\", my_first_graph.neighbors(node))"
   ]
  },
  {
   "cell_type": "markdown",
   "metadata": {},
   "source": [
    "I wrote a python *for* loop that iterated over the generator returned by the networkx graph method ```nodes_iter()```. This graph method returns a generator that yeilds each successive node in the network which the python *for* loop can then iterate over. [More information on python generators](https://wiki.python.org/moin/Generators). Alternatively, we could have used ```nodes()``` which is a method that returns a list instead of a generator. Similarly, we can loop over edges using ```edges_iter()``` or ```edges()``` to get a list of edges in the network."
   ]
  },
  {
   "cell_type": "code",
   "execution_count": 7,
   "metadata": {
    "collapsed": false
   },
   "outputs": [
    {
     "name": "stdout",
     "output_type": "stream",
     "text": [
      "(1, 2)\n",
      "(2, 3)\n"
     ]
    }
   ],
   "source": [
    "# Quick example of iterating over edges\n",
    "for edge in my_first_graph.edges_iter():\n",
    "    print(edge)"
   ]
  },
  {
   "cell_type": "markdown",
   "metadata": {},
   "source": [
    "Before we move on there is one more thing we would like to do which is visualize our graph. Networkx isn't known for making the prettiest graphs, we will be using [Gephi](https://gephi.org/) for that later, but it can provide us with a basic visualization to get an idea of what our graph looks like."
   ]
  },
  {
   "cell_type": "code",
   "execution_count": 12,
   "metadata": {
    "collapsed": false
   },
   "outputs": [
    {
     "data": {
      "image/png": "[encoded data removed]",
      "text/plain": [
       "<matplotlib.figure.Figure at 0x7fa0738f97b8>"
      ]
     },
     "metadata": {},
     "output_type": "display_data"
    }
   ],
   "source": [
    "# Draw figures in the notebook\n",
    "%matplotlib inline\n",
    "# We will use matplotlib as a backend for the visualization\n",
    "import matplotlib.pyplot as plt\n",
    "\n",
    "# Next we will call networkx's draw function on our graph\n",
    "nx.draw(my_first_graph)\n",
    "\n",
    "# And then ask matplotlib to show the figure\n",
    "plt.show()"
   ]
  },
  {
   "cell_type": "markdown",
   "metadata": {},
   "source": [
    "## Step 2: Friendship paradox example\n",
    "Now lets apply some of these tools to the friendship paradox. We will start by using networkx's graph generators to construct a graph for us, then we will calculate the average degree of the network. Once that is done we will calculate the average degree of the neighbors of a few random nodes in the network and compare those values with the degree of the nodes themselves."
   ]
  },
  {
   "cell_type": "code",
   "execution_count": 13,
   "metadata": {
    "collapsed": false
   },
   "outputs": [
    {
     "data": {
      "image/png": "[encoded data removed]",
      "text/plain": [
       "<matplotlib.figure.Figure at 0x7fa073c307b8>"
      ]
     },
     "metadata": {},
     "output_type": "display_data"
    }
   ],
   "source": [
    "# Use one of networkx's graph generator functions to create a graph\n",
    "star_graph = nx.star_graph(n=20)\n",
    "nx.draw(star_graph)\n",
    "plt.show()"
   ]
  },
  {
   "cell_type": "code",
   "execution_count": 14,
   "metadata": {
    "collapsed": false
   },
   "outputs": [
    {
     "name": "stdout",
     "output_type": "stream",
     "text": [
      "Average degree in network: 1.9047619047619047\n"
     ]
    }
   ],
   "source": [
    "# Calculate the average degree of the nodes in the graph\n",
    "average_degree = 0.0\n",
    "for node in star_graph.nodes_iter():\n",
    "    average_degree += star_graph.degree(node)\n",
    "average_degree /= len(star_graph)\n",
    "\n",
    "print(\"Average degree in network:\", average_degree)"
   ]
  },
  {
   "cell_type": "code",
   "execution_count": 15,
   "metadata": {
    "collapsed": false
   },
   "outputs": [
    {
     "name": "stdout",
     "output_type": "stream",
     "text": [
      "Node 7 has degree: 1  and average neighbor degree: 20.0\n",
      "Node 9 has degree: 1  and average neighbor degree: 20.0\n",
      "Node 2 has degree: 1  and average neighbor degree: 20.0\n",
      "Node 18 has degree: 1  and average neighbor degree: 20.0\n"
     ]
    }
   ],
   "source": [
    "# Use numpy's random number library to pick some nodes from the network\n",
    "import numpy as np\n",
    "\n",
    "# We will pick a couple nodes (without replacement) to calculate their average degree of their neighbors\n",
    "chosen_nodes = np.random.choice(star_graph.nodes(), size=4, replace=False)\n",
    "\n",
    "# Calculate the average degree of the neighbors of the chosen nodes\n",
    "for node in chosen_nodes:\n",
    "    # Find the node's neighbors\n",
    "    node_neighbors = star_graph.neighbors(node)\n",
    "    # Loop over each neighbor and add their degree to the average\n",
    "    average_neighbor_degree = 0.0\n",
    "    for neighbor in node_neighbors:\n",
    "        average_neighbor_degree += star_graph.degree(neighbor)\n",
    "    average_neighbor_degree /= len(node_neighbors)\n",
    "    \n",
    "    # Print our results. '\\' is used in python to continue code on next line\n",
    "    print(\"Node\", node, \"has degree:\", star_graph.degree(node), \\\n",
    "          \" and average neighbor degree:\", average_neighbor_degree)"
   ]
  },
  {
   "cell_type": "markdown",
   "metadata": {},
   "source": [
    "Even though the star graph is a fairly trivial example it does display the friendship paradox. It is an extreme case where the average degree of the network is wildly different from the average degree of your neighbors. For all but one node (the center node 0) you have fewer friends than your friends.\n",
    "\n",
    "This concludes the tutorial section of this notebook, if you have any questions about what the code does, or about python or networkx in general, don't be shy to message the instructors (or your peers) on [Slack](https://iu-netsci-online.slack.com/messages) with those questions.\n",
    "\n",
    "## Step 3: Friendship paradox assignment\n",
    "\n",
    "Your task is to perform a similar analysis for two other types of graphs: a scale-free graph and a random graph. You can use networkx's generator functions for making the [scale-free graph](http://networkx.readthedocs.io/en/networkx-1.11/reference/generated/networkx.generators.random_graphs.barabasi_albert_graph.html#networkx.generators.random_graphs.barabasi_albert_graph) and the [random graph](http://networkx.readthedocs.io/en/networkx-1.11/reference/generated/networkx.generators.random_graphs.erdos_renyi_graph.html#networkx.generators.random_graphs.erdos_renyi_graph). For the barabasi-albert graph use the parameters ```n=200``` and ```m=3```. For the erdos-renyi graph use the parameters ```n=200``` and ```p=0.2```. You should answer the following questions for each case:\n",
    "\n",
    "1. What is the average degree of the graph?\n",
    "2. Pick a few random nodes from the network. For each node: What is the node's degree? How does it compare with the node's average neighbor degree?\n",
    "2. What fraction of nodes in the graph have a larger average neighbor degree than their degree?\n",
    "\n",
    "You should also answer the following discussion questions:\n",
    "\n",
    "1. Did the friendship paradox occur in the scale-free graph? If so, why did it? If not, why not?\n",
    "2. Did the friendship paradox occur in the random graph? If so, why did it? If not, why not?\n",
    "\n",
    "Lastly: rename your notebook as 'friendship_lastname_firstname' and upload to Canvas in the Friendship paradox assignment section."
   ]
  }
 ],
 "metadata": {
  "kernelspec": {
   "display_name": "Python [Root]",
   "language": "python",
   "name": "Python [Root]"
  },
  "language_info": {
   "codemirror_mode": {
    "name": "ipython",
    "version": 3
   },
   "file_extension": ".py",
   "mimetype": "text/x-python",
   "name": "python",
   "nbconvert_exporter": "python",
   "pygments_lexer": "ipython3",
   "version": "3.5.2"
  }
 },
 "nbformat": 4,
 "nbformat_minor": 0
}
